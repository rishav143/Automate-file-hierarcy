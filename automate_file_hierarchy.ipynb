{
 "cells": [
  {
   "cell_type": "code",
   "execution_count": null,
   "id": "1e1186a6",
   "metadata": {},
   "outputs": [],
   "source": [
    "# automate file in hericary\n",
    "os.mkdir('ris') # this is root folder\n",
    "m = input(\"Enter no. of folder inside root    : \")\n",
    "n = input(\"Enter no. of folder inside m folder: \")\n",
    "for i in range(m):\n",
    "    file = 'ris/'+'ris ' +str(i+1)\n",
    "    os.mkdir(file)\n",
    "    for j in range(n):\n",
    "        in_file = file + '/ris ' + str(j+1)\n",
    "        os.mkdir(in_file)"
   ]
  }
 ],
 "metadata": {
  "kernelspec": {
   "display_name": "Python 3 (ipykernel)",
   "language": "python",
   "name": "python3"
  },
  "language_info": {
   "codemirror_mode": {
    "name": "ipython",
    "version": 3
   },
   "file_extension": ".py",
   "mimetype": "text/x-python",
   "name": "python",
   "nbconvert_exporter": "python",
   "pygments_lexer": "ipython3",
   "version": "3.10.9"
  }
 },
 "nbformat": 4,
 "nbformat_minor": 5
}
